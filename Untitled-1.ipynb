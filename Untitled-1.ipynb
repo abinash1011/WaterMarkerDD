{
 "cells": [
  {
   "cell_type": "code",
   "execution_count": 6,
   "metadata": {},
   "outputs": [
    {
     "data": {
      "text/plain": [
       "1"
      ]
     },
     "execution_count": 6,
     "metadata": {},
     "output_type": "execute_result"
    }
   ],
   "source": [
    "import cv2\n",
    "from subprocess import call,STDOUT\n",
    "import os\n",
    "call([\"ffmpeg\", \"-i\",\"video.mp4\" , \"-q:a\", \"0\", \"-map\", \"a\", \"tmp/audio.mp3\", \"-y\"],stdout=open(os.devnull, \"w\"), stderr=STDOUT)\n"
   ]
  },
  {
   "cell_type": "code",
   "execution_count": 4,
   "metadata": {},
   "outputs": [],
   "source": [
    "vidcap = cv2.VideoCapture(\"v1.mp4\")\n",
    "success, image = vidcap.read()\n"
   ]
  },
  {
   "cell_type": "code",
   "execution_count": 7,
   "metadata": {},
   "outputs": [],
   "source": [
    "def encode_string(input_string,root=\"./tmp/\"):\n",
    "    split_string_list=split_string(input_string)\n",
    "    for i in range(0,len(split_string_list)):\n",
    "        f_name=\"{}frame{}.jpg\".format(root,i)\n",
    "        secret_enc=lsb.hide(f_name,split_string_list[i])\n",
    "        secret_enc.save(f_name)\n",
    "        print(\"[INFO] frame {} holds {}\".format(f_name,split_string_list[i]))"
   ]
  },
  {
   "cell_type": "code",
   "execution_count": 8,
   "metadata": {},
   "outputs": [
    {
     "data": {
      "text/plain": [
       "1"
      ]
     },
     "execution_count": 8,
     "metadata": {},
     "output_type": "execute_result"
    }
   ],
   "source": [
    "call([\"ffmpeg\", \"-i\", \"tmp/frame%d.png\" , \"-vcodec\", \"png\", \"video.mov\", \"-y\"],stdout=open(os.devnull, \"w\"), stderr=STDOUT)\n"
   ]
  },
  {
   "cell_type": "code",
   "execution_count": 11,
   "metadata": {},
   "outputs": [
    {
     "data": {
      "text/plain": [
       "1"
      ]
     },
     "execution_count": 11,
     "metadata": {},
     "output_type": "execute_result"
    }
   ],
   "source": [
    "call([\"ffmpeg\", \"-i\", \"temp/video.mov\", \"-i\", \"temp/audio.mp3\", \"-codec\", \"copy\",\"data/enc-\" + str('output')+\".mov\", \"-y\"],stdout=open(os.devnull, \"w\"), stderr=STDOUT)\n"
   ]
  },
  {
   "cell_type": "code",
   "execution_count": 12,
   "metadata": {},
   "outputs": [],
   "source": [
    "def decode_string(video):\n",
    "    frame_extraction(video)\n",
    "    secret=[]\n",
    "    root=\"./tmp/\"\n",
    "    for i in range(len(os.listdir(root))):\n",
    "        f_name=\"{}{}.png\".format(root,i)\n",
    "        secret_dec=lsb.reveal(f_name)\n",
    "        if secret_dec == None:\n",
    "            break\n",
    "        secret.append(secret_dec)\n",
    "        \n",
    "    print(''.join([i for i in secret]))"
   ]
  },
  {
   "cell_type": "code",
   "execution_count": 4,
   "metadata": {},
   "outputs": [
    {
     "name": "stderr",
     "output_type": "stream",
     "text": [
      "ffmpeg version 4.4.2-0ubuntu0.22.04.1 Copyright (c) 2000-2021 the FFmpeg developers\n",
      "  built with gcc 11 (Ubuntu 11.2.0-19ubuntu1)\n",
      "  configuration: --prefix=/usr --extra-version=0ubuntu0.22.04.1 --toolchain=hardened --libdir=/usr/lib/x86_64-linux-gnu --incdir=/usr/include/x86_64-linux-gnu --arch=amd64 --enable-gpl --disable-stripping --enable-gnutls --enable-ladspa --enable-libaom --enable-libass --enable-libbluray --enable-libbs2b --enable-libcaca --enable-libcdio --enable-libcodec2 --enable-libdav1d --enable-libflite --enable-libfontconfig --enable-libfreetype --enable-libfribidi --enable-libgme --enable-libgsm --enable-libjack --enable-libmp3lame --enable-libmysofa --enable-libopenjpeg --enable-libopenmpt --enable-libopus --enable-libpulse --enable-librabbitmq --enable-librubberband --enable-libshine --enable-libsnappy --enable-libsoxr --enable-libspeex --enable-libsrt --enable-libssh --enable-libtheora --enable-libtwolame --enable-libvidstab --enable-libvorbis --enable-libvpx --enable-libwebp --enable-libx265 --enable-libxml2 --enable-libxvid --enable-libzimg --enable-libzmq --enable-libzvbi --enable-lv2 --enable-omx --enable-openal --enable-opencl --enable-opengl --enable-sdl2 --enable-pocketsphinx --enable-librsvg --enable-libmfx --enable-libdc1394 --enable-libdrm --enable-libiec61883 --enable-chromaprint --enable-frei0r --enable-libx264 --enable-shared\n",
      "  libavutil      56. 70.100 / 56. 70.100\n",
      "  libavcodec     58.134.100 / 58.134.100\n",
      "  libavformat    58. 76.100 / 58. 76.100\n",
      "  libavdevice    58. 13.100 / 58. 13.100\n",
      "  libavfilter     7.110.100 /  7.110.100\n",
      "  libswscale      5.  9.100 /  5.  9.100\n",
      "  libswresample   3.  9.100 /  3.  9.100\n",
      "  libpostproc    55.  9.100 / 55.  9.100\n",
      "Input #0, mov,mp4,m4a,3gp,3g2,mj2, from 'v1.mp4':\n",
      "  Metadata:\n",
      "    major_brand     : mp42\n",
      "    minor_version   : 0\n",
      "    compatible_brands: isommp42\n",
      "    creation_time   : 2023-12-27T01:10:58.000000Z\n",
      "  Duration: 00:00:09.33, start: 0.000000, bitrate: 1373 kb/s\n",
      "  Stream #0:0(und): Video: h264 (Main) (avc1 / 0x31637661), yuv420p(tv, bt709), 1280x720 [SAR 1:1 DAR 16:9], 1240 kb/s, 30 fps, 30 tbr, 15360 tbn, 60 tbc (default)\n",
      "    Metadata:\n",
      "      creation_time   : 2023-12-27T01:10:58.000000Z\n",
      "      handler_name    : ISO Media file produced by Google Inc. Created on: 12/26/2023.\n",
      "      vendor_id       : [0][0][0][0]\n",
      "  Stream #0:1(eng): Audio: aac (LC) (mp4a / 0x6134706D), 44100 Hz, stereo, fltp, 128 kb/s (default)\n",
      "    Metadata:\n",
      "      creation_time   : 2023-12-27T01:10:58.000000Z\n",
      "      handler_name    : ISO Media file produced by Google Inc. Created on: 12/26/2023.\n",
      "      vendor_id       : [0][0][0][0]\n",
      "Input #1, png_pipe, from 'leaf.png':\n",
      "  Duration: N/A, bitrate: N/A\n",
      "  Stream #1:0: Video: png, rgba(pc), 256x256, 25 fps, 25 tbr, 25 tbn, 25 tbc\n",
      "Stream mapping:\n",
      "  Stream #0:0 (h264) -> overlay:main (graph 0)\n",
      "  Stream #1:0 (png) -> overlay:overlay (graph 0)\n",
      "  overlay (graph 0) -> Stream #0:0 (libx264)\n",
      "  Stream #0:1 -> #0:1 (aac (native) -> aac (native))\n",
      "Press [q] to stop, [?] for help\n",
      "[libx264 @ 0x558d59b8f880] using SAR=1/1\n",
      "[libx264 @ 0x558d59b8f880] using cpu capabilities: MMX2 SSE2Fast SSSE3 SSE4.2 AVX FMA3 BMI2 AVX2\n",
      "[libx264 @ 0x558d59b8f880] profile High, level 3.1, 4:2:0, 8-bit\n",
      "[libx264 @ 0x558d59b8f880] 264 - core 163 r3060 5db6aa6 - H.264/MPEG-4 AVC codec - Copyleft 2003-2021 - http://www.videolan.org/x264.html - options: cabac=1 ref=3 deblock=1:0:0 analyse=0x3:0x113 me=hex subme=7 psy=1 psy_rd=1.00:0.00 mixed_ref=1 me_range=16 chroma_me=1 trellis=1 8x8dct=1 cqm=0 deadzone=21,11 fast_pskip=1 chroma_qp_offset=-2 threads=18 lookahead_threads=3 sliced_threads=0 nr=0 decimate=1 interlaced=0 bluray_compat=0 constrained_intra=0 bframes=3 b_pyramid=2 b_adapt=1 b_bias=0 direct=1 weightb=1 open_gop=0 weightp=2 keyint=250 keyint_min=25 scenecut=40 intra_refresh=0 rc_lookahead=40 rc=crf mbtree=1 crf=23.0 qcomp=0.60 qpmin=0 qpmax=69 qpstep=4 ip_ratio=1.40 aq=1:1.00\n",
      "Output #0, mp4, to 'output_video_with_watermark.mp4':\n",
      "  Metadata:\n",
      "    major_brand     : mp42\n",
      "    minor_version   : 0\n",
      "    compatible_brands: isommp42\n",
      "    encoder         : Lavf58.76.100\n",
      "  Stream #0:0: Video: h264 (avc1 / 0x31637661), yuv420p(tv, bt709, progressive), 1280x720 [SAR 1:1 DAR 16:9], q=2-31, 30 fps, 15360 tbn (default)\n",
      "    Metadata:\n",
      "      encoder         : Lavc58.134.100 libx264\n",
      "    Side data:\n",
      "      cpb: bitrate max/min/avg: 0/0/0 buffer size: 0 vbv_delay: N/A\n",
      "  Stream #0:1(eng): Audio: aac (LC) (mp4a / 0x6134706D), 44100 Hz, stereo, fltp, 128 kb/s (default)\n",
      "    Metadata:\n",
      "      creation_time   : 2023-12-27T01:10:58.000000Z\n",
      "      handler_name    : ISO Media file produced by Google Inc. Created on: 12/26/2023.\n",
      "      vendor_id       : [0][0][0][0]\n",
      "      encoder         : Lavc58.134.100 aac\n",
      "frame=  280 fps= 61 q=-1.0 Lsize=    2922kB time=00:00:09.31 bitrate=2570.7kbits/s speed=2.03x    \n",
      "video:2761kB audio:150kB subtitle:0kB other streams:0kB global headers:0kB muxing overhead: 0.381563%\n",
      "[libx264 @ 0x558d59b8f880] frame I:2     Avg QP:22.78  size: 40988\n",
      "[libx264 @ 0x558d59b8f880] frame P:128   Avg QP:23.65  size: 11887\n",
      "[libx264 @ 0x558d59b8f880] frame B:150   Avg QP:25.97  size:  8151\n",
      "[libx264 @ 0x558d59b8f880] consecutive B-frames:  4.6% 60.7% 33.2%  1.4%\n",
      "[libx264 @ 0x558d59b8f880] mb I  I16..4: 26.0% 48.1% 25.9%\n",
      "[libx264 @ 0x558d59b8f880] mb P  I16..4: 11.5% 16.3%  4.0%  P16..4: 26.9%  5.3%  1.1%  0.0%  0.0%    skip:34.9%\n",
      "[libx264 @ 0x558d59b8f880] mb B  I16..4:  4.1%  7.9%  2.5%  B16..8: 22.6%  5.1%  0.4%  direct: 1.0%  skip:56.5%  L0:36.0% L1:60.1% BI: 3.9%\n",
      "[libx264 @ 0x558d59b8f880] 8x8 transform intra:52.4% inter:81.0%\n",
      "[libx264 @ 0x558d59b8f880] coded y,uvDC,uvAC intra: 50.0% 55.6% 14.4% inter: 8.3% 12.0% 0.3%\n",
      "[libx264 @ 0x558d59b8f880] i16 v,h,dc,p:  5% 73%  7% 16%\n",
      "[libx264 @ 0x558d59b8f880] i8 v,h,dc,ddl,ddr,vr,hd,vl,hu:  7% 68% 14%  2%  1%  1%  3%  1%  4%\n",
      "[libx264 @ 0x558d59b8f880] i4 v,h,dc,ddl,ddr,vr,hd,vl,hu:  4% 79%  8%  1%  1%  0%  3%  0%  3%\n",
      "[libx264 @ 0x558d59b8f880] i8c dc,h,v,p: 40% 49%  6%  5%\n",
      "[libx264 @ 0x558d59b8f880] Weighted P-Frames: Y:4.7% UV:3.1%\n",
      "[libx264 @ 0x558d59b8f880] ref P L0: 56.2% 22.4% 14.0%  7.2%  0.3%\n",
      "[libx264 @ 0x558d59b8f880] ref B L0: 61.3% 35.0%  3.7%\n",
      "[libx264 @ 0x558d59b8f880] ref B L1: 100.0%  0.0%\n",
      "[libx264 @ 0x558d59b8f880] kb/s:2422.46\n",
      "[aac @ 0x558d59b86280] Qavg: 807.162\n"
     ]
    }
   ],
   "source": [
    "import subprocess\n",
    "\n",
    "def add_watermark(input_video, watermark, output_video, position='10:10'):\n",
    "    \"\"\"\n",
    "    Add a watermark to a video using ffmpeg.\n",
    "    \n",
    "    Args:\n",
    "        input_video (str): Path to the input video file.\n",
    "        watermark (str): Path to the watermark image file.\n",
    "        output_video (str): Path to the output video file.\n",
    "        position (str): Position of the watermark (optional). Default is '10:10'.\n",
    "    \"\"\"\n",
    "    cmd = [\n",
    "        'ffmpeg',\n",
    "        '-i', input_video,\n",
    "        '-i', watermark,\n",
    "        '-filter_complex', f'overlay={position}',\n",
    "        output_video\n",
    "    ]\n",
    "    \n",
    "    subprocess.run(cmd)\n",
    "\n",
    "# Example usage:\n",
    "input_video = 'v1.mp4'\n",
    "watermark = 'leaf.png'\n",
    "output_video = 'output_video_with_watermark.mp4'\n",
    "add_watermark(input_video, watermark, output_video)\n"
   ]
  },
  {
   "cell_type": "code",
   "execution_count": null,
   "metadata": {},
   "outputs": [],
   "source": []
  }
 ],
 "metadata": {
  "kernelspec": {
   "display_name": "coder",
   "language": "python",
   "name": "python3"
  },
  "language_info": {
   "codemirror_mode": {
    "name": "ipython",
    "version": 3
   },
   "file_extension": ".py",
   "mimetype": "text/x-python",
   "name": "python",
   "nbconvert_exporter": "python",
   "pygments_lexer": "ipython3",
   "version": "3.12.0"
  }
 },
 "nbformat": 4,
 "nbformat_minor": 2
}
